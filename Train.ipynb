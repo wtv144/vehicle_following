{
 "cells": [
  {
   "cell_type": "code",
   "execution_count": 1,
   "source": [
    "import pandas as pd\n",
    "import numpy as np\n",
    "import os\n",
    "from ts_data import TS_Data\n",
    "import torch\n",
    "from torch.utils.data import Dataset, DataLoader\n",
    "import torchvision.transforms.functional as F\n",
    "from torchvision import transforms, utils\n",
    "import torch.nn as nn\n",
    "from CNN import CNN\n",
    "from metrics import nll"
   ],
   "outputs": [
    {
     "output_type": "error",
     "ename": "ImportError",
     "evalue": "cannot import name 'fde' from 'metrics' (/home/warren/Documents/UGRA/AIM/metrics.py)",
     "traceback": [
      "\u001b[0;31m---------------------------------------------------------------------------\u001b[0m",
      "\u001b[0;31mImportError\u001b[0m                               Traceback (most recent call last)",
      "\u001b[0;32m<ipython-input-1-66bfa03ec900>\u001b[0m in \u001b[0;36m<module>\u001b[0;34m\u001b[0m\n\u001b[1;32m      9\u001b[0m \u001b[0;32mimport\u001b[0m \u001b[0mtorch\u001b[0m\u001b[0;34m.\u001b[0m\u001b[0mnn\u001b[0m \u001b[0;32mas\u001b[0m \u001b[0mnn\u001b[0m\u001b[0;34m\u001b[0m\u001b[0;34m\u001b[0m\u001b[0m\n\u001b[1;32m     10\u001b[0m \u001b[0;32mfrom\u001b[0m \u001b[0mCNN\u001b[0m \u001b[0;32mimport\u001b[0m \u001b[0mCNN\u001b[0m\u001b[0;34m\u001b[0m\u001b[0;34m\u001b[0m\u001b[0m\n\u001b[0;32m---> 11\u001b[0;31m \u001b[0;32mfrom\u001b[0m \u001b[0mmetrics\u001b[0m \u001b[0;32mimport\u001b[0m \u001b[0mnll\u001b[0m\u001b[0;34m,\u001b[0m \u001b[0mfde\u001b[0m\u001b[0;34m,\u001b[0m \u001b[0made\u001b[0m\u001b[0;34m\u001b[0m\u001b[0;34m\u001b[0m\u001b[0m\n\u001b[0m",
      "\u001b[0;31mImportError\u001b[0m: cannot import name 'fde' from 'metrics' (/home/warren/Documents/UGRA/AIM/metrics.py)"
     ]
    }
   ],
   "metadata": {}
  },
  {
   "cell_type": "code",
   "execution_count": 2,
   "source": [
    "fdir = \"/home/warren/Documents/UGRA/AIM/csv_files\"\n",
    "def get_dataset(fdir, in_len,pred_len):\n",
    "    l = os.listdir(fdir)\n",
    "    datasets = [None]*len(l)\n",
    "    for i in range(len(l)):\n",
    "        temp = os.path.join(fdir,l[i])\n",
    "        datasets[i] = TS_Data(temp, in_len,pred_len)\n",
    "    dataset =  torch.utils.data.ConcatDataset(datasets)\n",
    "    return dataset\n"
   ],
   "outputs": [],
   "metadata": {}
  },
  {
   "cell_type": "code",
   "execution_count": 3,
   "source": [
    "inlen = 8\n",
    "predlen=8\n",
    "full_dataset = get_dataset(fdir,inlen, predlen)\n",
    "train_len = int(.8* len(full_dataset))\n",
    "test_len = len(full_dataset)-train_len\n",
    "train_data, test_data = torch.utils.data.random_split(full_dataset, [train_len, test_len])\n",
    "train_dataloader = DataLoader(train_data, batch_size=64, shuffle=True)\n",
    "test_dataloader = DataLoader(test_data, batch_size=64)"
   ],
   "outputs": [],
   "metadata": {}
  },
  {
   "cell_type": "markdown",
   "source": [
    "## Training "
   ],
   "metadata": {}
  },
  {
   "cell_type": "code",
   "execution_count": 4,
   "source": [
    "#model = CNN()\n",
    "#take out the z "
   ],
   "outputs": [],
   "metadata": {}
  },
  {
   "cell_type": "code",
   "execution_count": 5,
   "source": [
    "#model = nn.LSTM(2, 5,5, batch_first=True) #ensure that batch is first \n",
    "model = CNN(8,4)\n",
    "device = torch.device('cuda:0' if torch.cuda.is_available() else 'cpu')\n",
    "model.to(device)\n",
    "criterion = nll()\n",
    "optimizer = torch.optim.Adam(model.parameters())\n",
    "epochs = 4\n",
    "device = torch.device('cuda:0' if torch.cuda.is_available() else 'cpu')\n"
   ],
   "outputs": [],
   "metadata": {}
  },
  {
   "cell_type": "code",
   "execution_count": 6,
   "source": [
    "    #list of predictions is [batch size, steps - 8, ]    \n",
    "def pred_to_samples(num_samples, pred):\n",
    "        sx = torch.exp(pred[2]) #sx\n",
    "        sy = torch.exp(pred[3]) #sy\n",
    "        corr = torch.tanh(pred[4]) #corr\n",
    "        sxsy = sx*sy\n",
    "        cov = torch.FloatTensor([[sx*sx, corr*sxsy],[corr*sxsy, sy*sy]])\n",
    "        means = torch.FloatTensor([pred[0],pred[1]])\n",
    "        dist = torch.distributions.multivariate_normal.MultivariateNormal(means, cov)\n",
    "        return dist.sample((num_samples,))\n",
    "#no idea if I need to detach for these \n",
    "\n",
    "def ade_dist(pred,target):\n",
    "        return (torch.sum(torch.square(pred-target))/pred.shape[1]).item() #assume the middle dimension\n",
    "\n",
    "\n",
    "def fde_dist(pred, target):\n",
    "        return (torch.sum(torch.square(pred[-1] - target[-1]))).item() #only compare the final location of pred to final location of tgt"
   ],
   "outputs": [],
   "metadata": {}
  },
  {
   "cell_type": "code",
   "execution_count": 7,
   "source": [
    "for e in range(epochs):\n",
    "    for idx, (inputs, labels) in enumerate(train_dataloader):\n",
    "        inputs = inputs.to(device)\n",
    "        labels = labels.to(device)\n",
    "        optimizer.zero_grad()\n",
    "        preds, (h_0,c_0)= model(inputs)\n",
    "        loss  = criterion(preds, labels)\n",
    "        \n",
    "        loss.backward()\n",
    "        optimizer.step()\n",
    "        \n",
    "        \n",
    "    #Validation \n",
    "    with torch.no_grad():\n",
    "        batch_sum_ade = 0\n",
    "        batch_sum_fde=0\n",
    "        for idx, (inputs, labels) in enumerate(test_dataloader): #batch size, steps, etc\n",
    "            inputs = inputs.to(device)\n",
    "            labels = labels.to(device)\n",
    "            T = inputs.shape[0]\n",
    "            N = inputs.shape[1]\n",
    "            preds, (h,c) = model(inputs) #each step has a distribution. So take a sample of each step and then turn it into something cumulative\n",
    "\n",
    "            for b in range(T): #iterate over batches\n",
    "                curr = preds[b,:,:]\n",
    "                #iterate over curr\n",
    "                num_samples = 20\n",
    "                num_steps = curr.shape[0]\n",
    "                sample_list = []*num_steps\n",
    "                for i in range(num_steps):\n",
    "                    sample_list[i] = pred_to_samples(num_samples, curr[i])\n",
    "                    #now should have a list of samples for each step\n",
    "\n",
    "                samples = torch.stack(samples,dim=1) #stack it along middle dim to get [num_samples, num_steps, (x,y)]\n",
    "                #now cumsum it \n",
    "                abs_samples = samples.cumsum(dim=1) #dim =1 since it is the number of steps shape is [num_samples, steps, rel pos]\n",
    "                # now take the minimum ade/fde of the absolute samples to it \n",
    "                fde_dists = []\n",
    "                ade_dists = []\n",
    "                for i in range(num_samples):\n",
    "                    #calculate the metrics for each\n",
    "                    fde_dists.append(fde_dist(abs_samples[i]))\n",
    "                    ade_dists.append(ade_dist(abs_samples[i]))\n",
    "                #now take the min\n",
    "                min_fde = min(fde_dists)\n",
    "                min_ade = min(ade_dists)\n",
    "                batch_sum_ade+=min_ade\n",
    "                batch_sum_fde+=min_fde\n",
    "            \n",
    "            \n",
    "        batch_sum_ade/= len(test_dataloader)\n",
    "        batch_sum_fde/= len(test_dataloader)\n",
    "            \n",
    "    "
   ],
   "outputs": [
    {
     "output_type": "stream",
     "name": "stderr",
     "text": [
      "/home/warren/mlenv/lib/python3.8/site-packages/torch/nn/functional.py:652: UserWarning: Named tensors and all their associated APIs are an experimental feature and subject to change. Please do not use them for anything important until they are released as stable. (Triggered internally at  /pytorch/c10/core/TensorImpl.h:1156.)\n",
      "  return torch.max_pool1d(input, kernel_size, stride, padding, dilation, ceil_mode)\n"
     ]
    },
    {
     "output_type": "error",
     "ename": "ValueError",
     "evalue": "too many values to unpack (expected 2)",
     "traceback": [
      "\u001b[0;31m---------------------------------------------------------------------------\u001b[0m",
      "\u001b[0;31mValueError\u001b[0m                                Traceback (most recent call last)",
      "\u001b[0;32m<ipython-input-7-c209bb1a854b>\u001b[0m in \u001b[0;36m<module>\u001b[0;34m\u001b[0m\n\u001b[1;32m      4\u001b[0m         \u001b[0mlabels\u001b[0m \u001b[0;34m=\u001b[0m \u001b[0mlabels\u001b[0m\u001b[0;34m.\u001b[0m\u001b[0mto\u001b[0m\u001b[0;34m(\u001b[0m\u001b[0mdevice\u001b[0m\u001b[0;34m)\u001b[0m\u001b[0;34m\u001b[0m\u001b[0;34m\u001b[0m\u001b[0m\n\u001b[1;32m      5\u001b[0m         \u001b[0moptimizer\u001b[0m\u001b[0;34m.\u001b[0m\u001b[0mzero_grad\u001b[0m\u001b[0;34m(\u001b[0m\u001b[0;34m)\u001b[0m\u001b[0;34m\u001b[0m\u001b[0;34m\u001b[0m\u001b[0m\n\u001b[0;32m----> 6\u001b[0;31m         \u001b[0mpreds\u001b[0m\u001b[0;34m,\u001b[0m \u001b[0;34m(\u001b[0m\u001b[0mh_0\u001b[0m\u001b[0;34m,\u001b[0m\u001b[0mc_0\u001b[0m\u001b[0;34m)\u001b[0m\u001b[0;34m=\u001b[0m \u001b[0mmodel\u001b[0m\u001b[0;34m(\u001b[0m\u001b[0minputs\u001b[0m\u001b[0;34m)\u001b[0m\u001b[0;34m\u001b[0m\u001b[0;34m\u001b[0m\u001b[0m\n\u001b[0m\u001b[1;32m      7\u001b[0m         \u001b[0mloss\u001b[0m  \u001b[0;34m=\u001b[0m \u001b[0mcriterion\u001b[0m\u001b[0;34m(\u001b[0m\u001b[0mpreds\u001b[0m\u001b[0;34m,\u001b[0m \u001b[0mlabels\u001b[0m\u001b[0;34m)\u001b[0m\u001b[0;34m\u001b[0m\u001b[0;34m\u001b[0m\u001b[0m\n\u001b[1;32m      8\u001b[0m \u001b[0;34m\u001b[0m\u001b[0m\n",
      "\u001b[0;31mValueError\u001b[0m: too many values to unpack (expected 2)"
     ]
    }
   ],
   "metadata": {}
  },
  {
   "cell_type": "code",
   "execution_count": null,
   "source": [],
   "outputs": [],
   "metadata": {}
  },
  {
   "cell_type": "markdown",
   "source": [
    "# Issues\n",
    "1. Had to change prediction length to the same as the input length for LSTM\n",
    "2. Do i need to detach or is calling item() sufficient\n",
    "3. The [batch_size, 8,5] means that each step has a distribution. So each x,y in a sequence of steps is from a different distribution and then make absolute\n",
    "4. Making a CNN compatible with time series "
   ],
   "metadata": {}
  },
  {
   "cell_type": "markdown",
   "source": [
    "Assume take in 8 time steps, and predict 4 steps\n",
    "1. Input into model, and model will return distribution parameters\n",
    "2. Take a loss with 4 time steps and compare to distribution\n",
    "3. "
   ],
   "metadata": {}
  },
  {
   "cell_type": "markdown",
   "source": [
    "1. Model predicts distribution, parameters, mux,muy sx,sy, rho\n",
    "2. creat mean and cov matrix to make distribution. Torch multivariate_norm. tanh for coeff, exp for sx \n",
    "3. generate samples from distribution, 20 trajecctories . NOTE: each step has its own distribution. So for one trajectory, use 8 distributions\n",
    "4. Convert samples from relative to absolute\n",
    "4. Compare samples to the target one, take the minimum \n",
    "\n",
    "\n"
   ],
   "metadata": {}
  },
  {
   "cell_type": "markdown",
   "source": [
    "Issue with the prediction length, set it to the same as the input length. Changed the [:,1] to [...,1] etc"
   ],
   "metadata": {}
  },
  {
   "cell_type": "code",
   "execution_count": null,
   "source": [],
   "outputs": [],
   "metadata": {}
  },
  {
   "cell_type": "code",
   "execution_count": null,
   "source": [
    "for b in range(num_batches):\n",
    "    curr = preds[b,:,:]\n",
    "    #iterate over curr\n",
    "    num_samples = 20\n",
    "    num_steps = curr.shape[0]\n",
    "    sample_list = []*num_steps\n",
    "    for i in range(num_steps):\n",
    "        sample_list[i] = pred_to_samples(num_samples, curr[i])\n",
    "        #now should have a list of samples for each step\n",
    "        \n",
    "    samples = torch.stack(samples,dim=1) #stack it along middle dim to get [num_samples, num_steps, (x,y)]\n",
    "    #now cumsum it \n",
    "    abs_samples = samples.cumsum(dim=1) #dim =1 since it is the number of steps shape is [num_samples, steps, rel pos]\n",
    "    # now take the minimum ade/fde of the absolute samples to it \n",
    "    fde_dists = []\n",
    "    ade_dists = []\n",
    "    for i in range(num_samples):\n",
    "        #calculate the metrics for each\n",
    "        fde_dists.append(fde_dist(abs_samples[i]))\n",
    "        ade_dists.append(ade_dist(abs_samples[i]))\n",
    "    #now take the min\n",
    "    min_fde = min(fde_dists)\n",
    "    min_ade = min(ade_dists)\n",
    "    \n",
    "        "
   ],
   "outputs": [],
   "metadata": {}
  },
  {
   "cell_type": "code",
   "execution_count": null,
   "source": [
    "a = torch.rand((5,4))"
   ],
   "outputs": [],
   "metadata": {}
  },
  {
   "cell_type": "code",
   "execution_count": null,
   "source": [
    "dist = torch.distributions.multivariate_normal.MultivariateNormal(torch.FloatTensor([0,0]), torch.eye(2))\n",
    "samples = dist.sample((20,8))\n",
    "samples.shape"
   ],
   "outputs": [],
   "metadata": {}
  },
  {
   "cell_type": "code",
   "execution_count": null,
   "source": [
    "samples[0]"
   ],
   "outputs": [],
   "metadata": {}
  },
  {
   "cell_type": "code",
   "execution_count": null,
   "source": [
    "s1 = pred_to_samples(20,torch.FloatTensor([1,0,1,1,0]))\n",
    "s2 = pred_to_samples(20,torch.FloatTensor([1,0,1,1,0]))\n",
    "print(s1[0])\n",
    "print(s2[0])\n",
    "a = [s1,s2]\n",
    "a = torch.stack(a, dim =1 )\n",
    "a.cumsum(dim=1)[0]"
   ],
   "outputs": [],
   "metadata": {}
  },
  {
   "cell_type": "code",
   "execution_count": null,
   "source": [
    "a = (torch.rand((20,8,2))).cumsum(dim=1)\n",
    "b = (torch.rand((20,8,2))).cumsum(dim=1)\n",
    "ade_dist(a,b)"
   ],
   "outputs": [],
   "metadata": {}
  },
  {
   "cell_type": "code",
   "execution_count": null,
   "source": [
    "#replace L by H"
   ],
   "outputs": [],
   "metadata": {}
  }
 ],
 "metadata": {
  "kernelspec": {
   "name": "python3",
   "display_name": "Python 3.8.10 64-bit ('mlenv': venv)"
  },
  "language_info": {
   "codemirror_mode": {
    "name": "ipython",
    "version": 3
   },
   "file_extension": ".py",
   "mimetype": "text/x-python",
   "name": "python",
   "nbconvert_exporter": "python",
   "pygments_lexer": "ipython3",
   "version": "3.8.10"
  },
  "interpreter": {
   "hash": "0df133046154da9ae7688aa7430ed73ae5cc3be12043136e904e8c0717ac54e0"
  }
 },
 "nbformat": 4,
 "nbformat_minor": 5
}