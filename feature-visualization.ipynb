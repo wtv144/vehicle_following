{
 "cells": [
  {
   "cell_type": "markdown",
   "metadata": {},
   "source": [
    "## Creating a dataframe from the CSV files"
   ]
  },
  {
   "cell_type": "code",
   "execution_count": 1,
   "metadata": {},
   "outputs": [],
   "source": [
    "import os\n",
    "import glob\n",
    "import pandas as pd"
   ]
  },
  {
   "cell_type": "code",
   "execution_count": 2,
   "metadata": {},
   "outputs": [
    {
     "name": "stdout",
     "output_type": "stream",
     "text": [
      "['PID 104/PID104A.daq.csv', 'PID 104/PID104B.daq.csv', 'PID 118/UW_VCS_37m_20160923142631.daq.csv', 'PID 118/UW_VCS_37m_20160923144110.daq.csv', 'PID 103/VCS_PID103B.daq.csv', 'PID 103/UW_VCS_37m_20160810120237.daq.csv', 'PID 103/VCS_PID103A.daq.csv', 'PID 120/UW_VCS_37m_20161115114106.daq.csv', 'PID 120/UW_VCS_37m_20161115112515.daq.csv', 'PID 114/UW_VCS_37m_20160906134747.daq.csv', 'PID 114/UW_VCS_37m_20160906133045.daq.csv', 'PID 112/minisim_PID112B.daq.csv', 'PID 112/minisim_PID112A.daq.csv', 'PID 107/UW_VCS_37m_20160919105342.daq.csv', 'PID 107/UW_VCS_37m_20160919103222.daq.csv', 'PID 110/UW_VCS_37m_20160826143151.daq.csv', 'PID 110/UW_VCS_37m_20160826144658.daq.csv', 'PID 108/UW_VCS_37m_20160829104756.daq.csv', 'PID 108/UW_VCS_37m_20160829111231.daq.csv', 'PID 117/UW_VCS_37m_20160923121249.daq.csv', 'PID 117/UW_VCS_37m_20160923115305.daq.csv', 'PID 119/UW_VCS_37m_20160927133546.daq.csv', 'PID 119/UW_VCS_37m_20160927135151.daq.csv', 'PID 111/UW_VCS_37m_20160830095332.daq.csv', 'PID 111/UW_VCS_37m_20160830093307.daq.csv', 'PID 113/UW_VCS_37m_20160831105740.daq.csv', 'PID 113/UW_VCS_37m_20160831104128.daq.csv', 'PID 101/UW_VCS_37m_20160707111701.daq.csv', 'PID 101/VCS_PID101B.daq.csv', 'PID 101/VCS_PID101A.daq.csv', 'PID 116/UW_VCS_37m_20160920130743.daq.csv', 'PID 116/UW_VCS_37m_20160920132052.daq.csv', 'PID 121/UW_VCS_37m_20161116125417.daq.csv', 'PID 121/UW_VCS_37m_20161116124942.daq.csv']\n"
     ]
    }
   ],
   "source": [
    "os.chdir('DAQ') # run only a single time in jupyter session\n",
    "files = glob.glob('*/*.csv')\n",
    "print(files)"
   ]
  },
  {
   "cell_type": "code",
   "execution_count": 3,
   "metadata": {},
   "outputs": [
    {
     "data": {
      "text/html": [
       "<div>\n",
       "<style scoped>\n",
       "    .dataframe tbody tr th:only-of-type {\n",
       "        vertical-align: middle;\n",
       "    }\n",
       "\n",
       "    .dataframe tbody tr th {\n",
       "        vertical-align: top;\n",
       "    }\n",
       "\n",
       "    .dataframe thead th {\n",
       "        text-align: right;\n",
       "    }\n",
       "</style>\n",
       "<table border=\"1\" class=\"dataframe\">\n",
       "  <thead>\n",
       "    <tr style=\"text-align: right;\">\n",
       "      <th></th>\n",
       "      <th>timestamp</th>\n",
       "      <th>VDS_Veh_Speed_0</th>\n",
       "      <th>SCC_Lane_Deviation_0</th>\n",
       "      <th>SCC_Lane_Deviation_1</th>\n",
       "      <th>SCC_Lane_Deviation_2</th>\n",
       "      <th>SCC_Lane_Deviation_3</th>\n",
       "      <th>SCC_Follow_Info_0</th>\n",
       "      <th>SCC_Follow_Info_1</th>\n",
       "      <th>SCC_Follow_Info_2</th>\n",
       "      <th>SCC_Follow_Info_3</th>\n",
       "      <th>SCC_Follow_Info_4</th>\n",
       "      <th>SCC_Follow_Info_5</th>\n",
       "      <th>SCC_Follow_Info_6</th>\n",
       "      <th>SCC_Follow_Info_7</th>\n",
       "      <th>SCC_Follow_Info_8</th>\n",
       "      <th>VDS_Chassis_CG_Position_0</th>\n",
       "      <th>VDS_Chassis_CG_Position_1</th>\n",
       "      <th>VDS_Chassis_CG_Position_2</th>\n",
       "    </tr>\n",
       "  </thead>\n",
       "  <tbody>\n",
       "    <tr>\n",
       "      <th>0</th>\n",
       "      <td>2016-08-10 12:18:05.000000</td>\n",
       "      <td>0.000000</td>\n",
       "      <td>0.0</td>\n",
       "      <td>0.000000</td>\n",
       "      <td>0.0</td>\n",
       "      <td>0.0</td>\n",
       "      <td>-1.0</td>\n",
       "      <td>0.000000</td>\n",
       "      <td>0.000000</td>\n",
       "      <td>0.000000</td>\n",
       "      <td>0.0</td>\n",
       "      <td>0.000000</td>\n",
       "      <td>0.0</td>\n",
       "      <td>0.0000</td>\n",
       "      <td>0.0</td>\n",
       "      <td>0.000000</td>\n",
       "      <td>0.000000</td>\n",
       "      <td>0.000000</td>\n",
       "    </tr>\n",
       "    <tr>\n",
       "      <th>1</th>\n",
       "      <td>2016-08-10 12:18:05.016670</td>\n",
       "      <td>0.000000</td>\n",
       "      <td>0.0</td>\n",
       "      <td>0.000000</td>\n",
       "      <td>0.0</td>\n",
       "      <td>0.0</td>\n",
       "      <td>-1.0</td>\n",
       "      <td>0.000000</td>\n",
       "      <td>0.000000</td>\n",
       "      <td>0.000000</td>\n",
       "      <td>0.0</td>\n",
       "      <td>0.000000</td>\n",
       "      <td>0.0</td>\n",
       "      <td>0.0000</td>\n",
       "      <td>0.0</td>\n",
       "      <td>0.000000</td>\n",
       "      <td>0.000000</td>\n",
       "      <td>0.000000</td>\n",
       "    </tr>\n",
       "    <tr>\n",
       "      <th>2</th>\n",
       "      <td>2016-08-10 12:18:05.033340</td>\n",
       "      <td>0.000000</td>\n",
       "      <td>0.0</td>\n",
       "      <td>0.000000</td>\n",
       "      <td>0.0</td>\n",
       "      <td>0.0</td>\n",
       "      <td>-1.0</td>\n",
       "      <td>0.000000</td>\n",
       "      <td>0.000000</td>\n",
       "      <td>0.000000</td>\n",
       "      <td>0.0</td>\n",
       "      <td>0.000000</td>\n",
       "      <td>0.0</td>\n",
       "      <td>0.0000</td>\n",
       "      <td>0.0</td>\n",
       "      <td>0.000000</td>\n",
       "      <td>0.000000</td>\n",
       "      <td>0.000000</td>\n",
       "    </tr>\n",
       "    <tr>\n",
       "      <th>3</th>\n",
       "      <td>2016-08-10 12:18:05.050010</td>\n",
       "      <td>0.005343</td>\n",
       "      <td>0.0</td>\n",
       "      <td>0.000000</td>\n",
       "      <td>0.0</td>\n",
       "      <td>0.0</td>\n",
       "      <td>-1.0</td>\n",
       "      <td>0.000000</td>\n",
       "      <td>0.000000</td>\n",
       "      <td>0.000000</td>\n",
       "      <td>0.0</td>\n",
       "      <td>0.000000</td>\n",
       "      <td>0.0</td>\n",
       "      <td>0.0000</td>\n",
       "      <td>0.0</td>\n",
       "      <td>104799.312831</td>\n",
       "      <td>312.121618</td>\n",
       "      <td>-1.738051</td>\n",
       "    </tr>\n",
       "    <tr>\n",
       "      <th>4</th>\n",
       "      <td>2016-08-10 12:18:05.066680</td>\n",
       "      <td>0.003470</td>\n",
       "      <td>1.0</td>\n",
       "      <td>-0.123677</td>\n",
       "      <td>12.0</td>\n",
       "      <td>3.0</td>\n",
       "      <td>10.0</td>\n",
       "      <td>71.755615</td>\n",
       "      <td>10935.563477</td>\n",
       "      <td>55.655613</td>\n",
       "      <td>10000.0</td>\n",
       "      <td>15.140205</td>\n",
       "      <td>312.0</td>\n",
       "      <td>104728.9375</td>\n",
       "      <td>0.0</td>\n",
       "      <td>104799.312759</td>\n",
       "      <td>312.121677</td>\n",
       "      <td>-1.737743</td>\n",
       "    </tr>\n",
       "  </tbody>\n",
       "</table>\n",
       "</div>"
      ],
      "text/plain": [
       "                    timestamp  VDS_Veh_Speed_0  SCC_Lane_Deviation_0  \\\n",
       "0  2016-08-10 12:18:05.000000         0.000000                   0.0   \n",
       "1  2016-08-10 12:18:05.016670         0.000000                   0.0   \n",
       "2  2016-08-10 12:18:05.033340         0.000000                   0.0   \n",
       "3  2016-08-10 12:18:05.050010         0.005343                   0.0   \n",
       "4  2016-08-10 12:18:05.066680         0.003470                   1.0   \n",
       "\n",
       "   SCC_Lane_Deviation_1  SCC_Lane_Deviation_2  SCC_Lane_Deviation_3  \\\n",
       "0              0.000000                   0.0                   0.0   \n",
       "1              0.000000                   0.0                   0.0   \n",
       "2              0.000000                   0.0                   0.0   \n",
       "3              0.000000                   0.0                   0.0   \n",
       "4             -0.123677                  12.0                   3.0   \n",
       "\n",
       "   SCC_Follow_Info_0  SCC_Follow_Info_1  SCC_Follow_Info_2  SCC_Follow_Info_3  \\\n",
       "0               -1.0           0.000000           0.000000           0.000000   \n",
       "1               -1.0           0.000000           0.000000           0.000000   \n",
       "2               -1.0           0.000000           0.000000           0.000000   \n",
       "3               -1.0           0.000000           0.000000           0.000000   \n",
       "4               10.0          71.755615       10935.563477          55.655613   \n",
       "\n",
       "   SCC_Follow_Info_4  SCC_Follow_Info_5  SCC_Follow_Info_6  SCC_Follow_Info_7  \\\n",
       "0                0.0           0.000000                0.0             0.0000   \n",
       "1                0.0           0.000000                0.0             0.0000   \n",
       "2                0.0           0.000000                0.0             0.0000   \n",
       "3                0.0           0.000000                0.0             0.0000   \n",
       "4            10000.0          15.140205              312.0        104728.9375   \n",
       "\n",
       "   SCC_Follow_Info_8  VDS_Chassis_CG_Position_0  VDS_Chassis_CG_Position_1  \\\n",
       "0                0.0                   0.000000                   0.000000   \n",
       "1                0.0                   0.000000                   0.000000   \n",
       "2                0.0                   0.000000                   0.000000   \n",
       "3                0.0              104799.312831                 312.121618   \n",
       "4                0.0              104799.312759                 312.121677   \n",
       "\n",
       "   VDS_Chassis_CG_Position_2  \n",
       "0                   0.000000  \n",
       "1                   0.000000  \n",
       "2                   0.000000  \n",
       "3                  -1.738051  \n",
       "4                  -1.737743  "
      ]
     },
     "execution_count": 3,
     "metadata": {},
     "output_type": "execute_result"
    }
   ],
   "source": [
    "frames = []\n",
    "for file in files:\n",
    "    frame = pd.read_csv(file)\n",
    "    frames.append(frame)\n",
    "data = pd.concat(frames)\n",
    "data.head()"
   ]
  },
  {
   "cell_type": "code",
   "execution_count": 4,
   "metadata": {},
   "outputs": [
    {
     "name": "stdout",
     "output_type": "stream",
     "text": [
      "1633614\n"
     ]
    }
   ],
   "source": [
    "print(len(data))"
   ]
  },
  {
   "cell_type": "markdown",
   "metadata": {},
   "source": [
    "## Data Visualization"
   ]
  },
  {
   "cell_type": "code",
   "execution_count": 5,
   "metadata": {},
   "outputs": [],
   "source": [
    "import matplotlib.pyplot as plt\n",
    "import numpy as np"
   ]
  },
  {
   "cell_type": "code",
   "execution_count": 6,
   "metadata": {},
   "outputs": [
    {
     "ename": "KeyError",
     "evalue": "'VDS_Veh_Dist_0'",
     "output_type": "error",
     "traceback": [
      "\u001b[0;31m---------------------------------------------------------------------------\u001b[0m",
      "\u001b[0;31mKeyError\u001b[0m                                  Traceback (most recent call last)",
      "\u001b[0;32m~/mlenv/lib/python3.8/site-packages/pandas/core/indexes/base.py\u001b[0m in \u001b[0;36mget_loc\u001b[0;34m(self, key, method, tolerance)\u001b[0m\n\u001b[1;32m   3079\u001b[0m             \u001b[0;32mtry\u001b[0m\u001b[0;34m:\u001b[0m\u001b[0;34m\u001b[0m\u001b[0;34m\u001b[0m\u001b[0m\n\u001b[0;32m-> 3080\u001b[0;31m                 \u001b[0;32mreturn\u001b[0m \u001b[0mself\u001b[0m\u001b[0;34m.\u001b[0m\u001b[0m_engine\u001b[0m\u001b[0;34m.\u001b[0m\u001b[0mget_loc\u001b[0m\u001b[0;34m(\u001b[0m\u001b[0mcasted_key\u001b[0m\u001b[0;34m)\u001b[0m\u001b[0;34m\u001b[0m\u001b[0;34m\u001b[0m\u001b[0m\n\u001b[0m\u001b[1;32m   3081\u001b[0m             \u001b[0;32mexcept\u001b[0m \u001b[0mKeyError\u001b[0m \u001b[0;32mas\u001b[0m \u001b[0merr\u001b[0m\u001b[0;34m:\u001b[0m\u001b[0;34m\u001b[0m\u001b[0;34m\u001b[0m\u001b[0m\n",
      "\u001b[0;32mpandas/_libs/index.pyx\u001b[0m in \u001b[0;36mpandas._libs.index.IndexEngine.get_loc\u001b[0;34m()\u001b[0m\n",
      "\u001b[0;32mpandas/_libs/index.pyx\u001b[0m in \u001b[0;36mpandas._libs.index.IndexEngine.get_loc\u001b[0;34m()\u001b[0m\n",
      "\u001b[0;32mpandas/_libs/hashtable_class_helper.pxi\u001b[0m in \u001b[0;36mpandas._libs.hashtable.PyObjectHashTable.get_item\u001b[0;34m()\u001b[0m\n",
      "\u001b[0;32mpandas/_libs/hashtable_class_helper.pxi\u001b[0m in \u001b[0;36mpandas._libs.hashtable.PyObjectHashTable.get_item\u001b[0;34m()\u001b[0m\n",
      "\u001b[0;31mKeyError\u001b[0m: 'VDS_Veh_Dist_0'",
      "\nThe above exception was the direct cause of the following exception:\n",
      "\u001b[0;31mKeyError\u001b[0m                                  Traceback (most recent call last)",
      "\u001b[0;32m<ipython-input-6-adfd6e9397cb>\u001b[0m in \u001b[0;36m<module>\u001b[0;34m\u001b[0m\n\u001b[0;32m----> 1\u001b[0;31m \u001b[0mplt\u001b[0m\u001b[0;34m.\u001b[0m\u001b[0mhist\u001b[0m\u001b[0;34m(\u001b[0m\u001b[0mdata\u001b[0m\u001b[0;34m[\u001b[0m\u001b[0;34m'VDS_Veh_Dist_0'\u001b[0m\u001b[0;34m]\u001b[0m\u001b[0;34m)\u001b[0m\u001b[0;34m\u001b[0m\u001b[0;34m\u001b[0m\u001b[0m\n\u001b[0m",
      "\u001b[0;32m~/mlenv/lib/python3.8/site-packages/pandas/core/frame.py\u001b[0m in \u001b[0;36m__getitem__\u001b[0;34m(self, key)\u001b[0m\n\u001b[1;32m   3022\u001b[0m             \u001b[0;32mif\u001b[0m \u001b[0mself\u001b[0m\u001b[0;34m.\u001b[0m\u001b[0mcolumns\u001b[0m\u001b[0;34m.\u001b[0m\u001b[0mnlevels\u001b[0m \u001b[0;34m>\u001b[0m \u001b[0;36m1\u001b[0m\u001b[0;34m:\u001b[0m\u001b[0;34m\u001b[0m\u001b[0;34m\u001b[0m\u001b[0m\n\u001b[1;32m   3023\u001b[0m                 \u001b[0;32mreturn\u001b[0m \u001b[0mself\u001b[0m\u001b[0;34m.\u001b[0m\u001b[0m_getitem_multilevel\u001b[0m\u001b[0;34m(\u001b[0m\u001b[0mkey\u001b[0m\u001b[0;34m)\u001b[0m\u001b[0;34m\u001b[0m\u001b[0;34m\u001b[0m\u001b[0m\n\u001b[0;32m-> 3024\u001b[0;31m             \u001b[0mindexer\u001b[0m \u001b[0;34m=\u001b[0m \u001b[0mself\u001b[0m\u001b[0;34m.\u001b[0m\u001b[0mcolumns\u001b[0m\u001b[0;34m.\u001b[0m\u001b[0mget_loc\u001b[0m\u001b[0;34m(\u001b[0m\u001b[0mkey\u001b[0m\u001b[0;34m)\u001b[0m\u001b[0;34m\u001b[0m\u001b[0;34m\u001b[0m\u001b[0m\n\u001b[0m\u001b[1;32m   3025\u001b[0m             \u001b[0;32mif\u001b[0m \u001b[0mis_integer\u001b[0m\u001b[0;34m(\u001b[0m\u001b[0mindexer\u001b[0m\u001b[0;34m)\u001b[0m\u001b[0;34m:\u001b[0m\u001b[0;34m\u001b[0m\u001b[0;34m\u001b[0m\u001b[0m\n\u001b[1;32m   3026\u001b[0m                 \u001b[0mindexer\u001b[0m \u001b[0;34m=\u001b[0m \u001b[0;34m[\u001b[0m\u001b[0mindexer\u001b[0m\u001b[0;34m]\u001b[0m\u001b[0;34m\u001b[0m\u001b[0;34m\u001b[0m\u001b[0m\n",
      "\u001b[0;32m~/mlenv/lib/python3.8/site-packages/pandas/core/indexes/base.py\u001b[0m in \u001b[0;36mget_loc\u001b[0;34m(self, key, method, tolerance)\u001b[0m\n\u001b[1;32m   3080\u001b[0m                 \u001b[0;32mreturn\u001b[0m \u001b[0mself\u001b[0m\u001b[0;34m.\u001b[0m\u001b[0m_engine\u001b[0m\u001b[0;34m.\u001b[0m\u001b[0mget_loc\u001b[0m\u001b[0;34m(\u001b[0m\u001b[0mcasted_key\u001b[0m\u001b[0;34m)\u001b[0m\u001b[0;34m\u001b[0m\u001b[0;34m\u001b[0m\u001b[0m\n\u001b[1;32m   3081\u001b[0m             \u001b[0;32mexcept\u001b[0m \u001b[0mKeyError\u001b[0m \u001b[0;32mas\u001b[0m \u001b[0merr\u001b[0m\u001b[0;34m:\u001b[0m\u001b[0;34m\u001b[0m\u001b[0;34m\u001b[0m\u001b[0m\n\u001b[0;32m-> 3082\u001b[0;31m                 \u001b[0;32mraise\u001b[0m \u001b[0mKeyError\u001b[0m\u001b[0;34m(\u001b[0m\u001b[0mkey\u001b[0m\u001b[0;34m)\u001b[0m \u001b[0;32mfrom\u001b[0m \u001b[0merr\u001b[0m\u001b[0;34m\u001b[0m\u001b[0;34m\u001b[0m\u001b[0m\n\u001b[0m\u001b[1;32m   3083\u001b[0m \u001b[0;34m\u001b[0m\u001b[0m\n\u001b[1;32m   3084\u001b[0m         \u001b[0;32mif\u001b[0m \u001b[0mtolerance\u001b[0m \u001b[0;32mis\u001b[0m \u001b[0;32mnot\u001b[0m \u001b[0;32mNone\u001b[0m\u001b[0;34m:\u001b[0m\u001b[0;34m\u001b[0m\u001b[0;34m\u001b[0m\u001b[0m\n",
      "\u001b[0;31mKeyError\u001b[0m: 'VDS_Veh_Dist_0'"
     ]
    }
   ],
   "source": [
    "plt.hist(data['VDS_Veh_Dist_0'])"
   ]
  },
  {
   "cell_type": "code",
   "execution_count": 7,
   "metadata": {},
   "outputs": [
    {
     "data": {
      "text/plain": [
       "(array([ 61332.,   7503.,  39144.,  46093.,  26460.,  28625., 460596.,\n",
       "        944861.,  16974.,   2026.]),\n",
       " array([ 0.        ,  6.93250122, 13.86500244, 20.79750366, 27.73000488,\n",
       "        34.6625061 , 41.59500732, 48.52750854, 55.46000977, 62.39251099,\n",
       "        69.32501221]),\n",
       " <BarContainer object of 10 artists>)"
      ]
     },
     "execution_count": 7,
     "metadata": {},
     "output_type": "execute_result"
    },
    {
     "data": {
      "image/png": "[encoded data removed]",
      "text/plain": [
       "<Figure size 432x288 with 1 Axes>"
      ]
     },
     "metadata": {
      "needs_background": "light"
     },
     "output_type": "display_data"
    }
   ],
   "source": [
    "plt.hist(data['VDS_Veh_Speed_0'])"
   ]
  },
  {
   "cell_type": "code",
   "execution_count": 8,
   "metadata": {},
   "outputs": [
    {
     "data": {
      "text/plain": [
       "1.0    1633539\n",
       "0.0         75\n",
       "Name: SCC_Lane_Deviation_0, dtype: int64"
      ]
     },
     "execution_count": 8,
     "metadata": {},
     "output_type": "execute_result"
    }
   ],
   "source": [
    "data['SCC_Lane_Deviation_0'].value_counts()"
   ]
  },
  {
   "cell_type": "code",
   "execution_count": 9,
   "metadata": {},
   "outputs": [
    {
     "data": {
      "text/plain": [
       "(array([7.71000e+02, 5.59430e+04, 9.33875e+05, 5.56337e+05, 3.62460e+04,\n",
       "        2.34500e+03, 1.79700e+03, 3.30400e+03, 1.22800e+04, 3.06410e+04]),\n",
       " array([-5.99445915e+00, -3.99975615e+00, -2.00505314e+00, -1.03501320e-02,\n",
       "         1.98435287e+00,  3.97905588e+00,  5.97375889e+00,  7.96846189e+00,\n",
       "         9.96316490e+00,  1.19578679e+01,  1.39525709e+01]),\n",
       " <a list of 10 Patch objects>)"
      ]
     },
     "execution_count": 9,
     "metadata": {},
     "output_type": "execute_result"
    },
    {
     "data": {
      "image/png": "[encoded data removed]",
      "text/plain": [
       "<Figure size 432x288 with 1 Axes>"
      ]
     },
     "metadata": {
      "needs_background": "light"
     },
     "output_type": "display_data"
    }
   ],
   "source": [
    "plt.hist(data[data['SCC_Lane_Deviation_0'] == 1]['SCC_Lane_Deviation_1'])"
   ]
  },
  {
   "cell_type": "code",
   "execution_count": 8,
   "metadata": {},
   "outputs": [
    {
     "data": {
      "text/html": [
       "<div>\n",
       "<style scoped>\n",
       "    .dataframe tbody tr th:only-of-type {\n",
       "        vertical-align: middle;\n",
       "    }\n",
       "\n",
       "    .dataframe tbody tr th {\n",
       "        vertical-align: top;\n",
       "    }\n",
       "\n",
       "    .dataframe thead th {\n",
       "        text-align: right;\n",
       "    }\n",
       "</style>\n",
       "<table border=\"1\" class=\"dataframe\">\n",
       "  <thead>\n",
       "    <tr style=\"text-align: right;\">\n",
       "      <th></th>\n",
       "      <th>timestamp</th>\n",
       "      <th>VDS_Veh_Speed_0</th>\n",
       "      <th>SCC_Lane_Deviation_0</th>\n",
       "      <th>SCC_Lane_Deviation_1</th>\n",
       "      <th>SCC_Lane_Deviation_2</th>\n",
       "      <th>SCC_Lane_Deviation_3</th>\n",
       "      <th>SCC_Follow_Info_0</th>\n",
       "      <th>SCC_Follow_Info_1</th>\n",
       "      <th>SCC_Follow_Info_2</th>\n",
       "      <th>SCC_Follow_Info_3</th>\n",
       "      <th>SCC_Follow_Info_4</th>\n",
       "      <th>SCC_Follow_Info_5</th>\n",
       "      <th>SCC_Follow_Info_6</th>\n",
       "      <th>SCC_Follow_Info_7</th>\n",
       "      <th>SCC_Follow_Info_8</th>\n",
       "      <th>VDS_Chassis_CG_Position_0</th>\n",
       "      <th>VDS_Chassis_CG_Position_1</th>\n",
       "      <th>VDS_Chassis_CG_Position_2</th>\n",
       "      <th>SCC_Percentage_Lane_Deviation</th>\n",
       "    </tr>\n",
       "  </thead>\n",
       "  <tbody>\n",
       "    <tr>\n",
       "      <th>0</th>\n",
       "      <td>2016-08-10 12:18:05.000000</td>\n",
       "      <td>0.000000</td>\n",
       "      <td>0.0</td>\n",
       "      <td>0.000000</td>\n",
       "      <td>0.0</td>\n",
       "      <td>0.0</td>\n",
       "      <td>-1.0</td>\n",
       "      <td>0.000000</td>\n",
       "      <td>0.000000</td>\n",
       "      <td>0.000000</td>\n",
       "      <td>0.0</td>\n",
       "      <td>0.000000</td>\n",
       "      <td>0.0</td>\n",
       "      <td>0.0000</td>\n",
       "      <td>0.0</td>\n",
       "      <td>0.000000</td>\n",
       "      <td>0.000000</td>\n",
       "      <td>0.000000</td>\n",
       "      <td>0.000000</td>\n",
       "    </tr>\n",
       "    <tr>\n",
       "      <th>1</th>\n",
       "      <td>2016-08-10 12:18:05.016670</td>\n",
       "      <td>0.000000</td>\n",
       "      <td>0.0</td>\n",
       "      <td>0.000000</td>\n",
       "      <td>0.0</td>\n",
       "      <td>0.0</td>\n",
       "      <td>-1.0</td>\n",
       "      <td>0.000000</td>\n",
       "      <td>0.000000</td>\n",
       "      <td>0.000000</td>\n",
       "      <td>0.0</td>\n",
       "      <td>0.000000</td>\n",
       "      <td>0.0</td>\n",
       "      <td>0.0000</td>\n",
       "      <td>0.0</td>\n",
       "      <td>0.000000</td>\n",
       "      <td>0.000000</td>\n",
       "      <td>0.000000</td>\n",
       "      <td>0.000000</td>\n",
       "    </tr>\n",
       "    <tr>\n",
       "      <th>2</th>\n",
       "      <td>2016-08-10 12:18:05.033340</td>\n",
       "      <td>0.000000</td>\n",
       "      <td>0.0</td>\n",
       "      <td>0.000000</td>\n",
       "      <td>0.0</td>\n",
       "      <td>0.0</td>\n",
       "      <td>-1.0</td>\n",
       "      <td>0.000000</td>\n",
       "      <td>0.000000</td>\n",
       "      <td>0.000000</td>\n",
       "      <td>0.0</td>\n",
       "      <td>0.000000</td>\n",
       "      <td>0.0</td>\n",
       "      <td>0.0000</td>\n",
       "      <td>0.0</td>\n",
       "      <td>0.000000</td>\n",
       "      <td>0.000000</td>\n",
       "      <td>0.000000</td>\n",
       "      <td>0.000000</td>\n",
       "    </tr>\n",
       "    <tr>\n",
       "      <th>3</th>\n",
       "      <td>2016-08-10 12:18:05.050010</td>\n",
       "      <td>0.005343</td>\n",
       "      <td>0.0</td>\n",
       "      <td>0.000000</td>\n",
       "      <td>0.0</td>\n",
       "      <td>0.0</td>\n",
       "      <td>-1.0</td>\n",
       "      <td>0.000000</td>\n",
       "      <td>0.000000</td>\n",
       "      <td>0.000000</td>\n",
       "      <td>0.0</td>\n",
       "      <td>0.000000</td>\n",
       "      <td>0.0</td>\n",
       "      <td>0.0000</td>\n",
       "      <td>0.0</td>\n",
       "      <td>104799.312831</td>\n",
       "      <td>312.121618</td>\n",
       "      <td>-1.738051</td>\n",
       "      <td>0.000000</td>\n",
       "    </tr>\n",
       "    <tr>\n",
       "      <th>4</th>\n",
       "      <td>2016-08-10 12:18:05.066680</td>\n",
       "      <td>0.003470</td>\n",
       "      <td>1.0</td>\n",
       "      <td>-0.123677</td>\n",
       "      <td>12.0</td>\n",
       "      <td>3.0</td>\n",
       "      <td>10.0</td>\n",
       "      <td>71.755615</td>\n",
       "      <td>10935.563477</td>\n",
       "      <td>55.655613</td>\n",
       "      <td>10000.0</td>\n",
       "      <td>15.140205</td>\n",
       "      <td>312.0</td>\n",
       "      <td>104728.9375</td>\n",
       "      <td>0.0</td>\n",
       "      <td>104799.312759</td>\n",
       "      <td>312.121677</td>\n",
       "      <td>-1.737743</td>\n",
       "      <td>-1.030639</td>\n",
       "    </tr>\n",
       "  </tbody>\n",
       "</table>\n",
       "</div>"
      ],
      "text/plain": [
       "                    timestamp  VDS_Veh_Speed_0  SCC_Lane_Deviation_0  \\\n",
       "0  2016-08-10 12:18:05.000000         0.000000                   0.0   \n",
       "1  2016-08-10 12:18:05.016670         0.000000                   0.0   \n",
       "2  2016-08-10 12:18:05.033340         0.000000                   0.0   \n",
       "3  2016-08-10 12:18:05.050010         0.005343                   0.0   \n",
       "4  2016-08-10 12:18:05.066680         0.003470                   1.0   \n",
       "\n",
       "   SCC_Lane_Deviation_1  SCC_Lane_Deviation_2  SCC_Lane_Deviation_3  \\\n",
       "0              0.000000                   0.0                   0.0   \n",
       "1              0.000000                   0.0                   0.0   \n",
       "2              0.000000                   0.0                   0.0   \n",
       "3              0.000000                   0.0                   0.0   \n",
       "4             -0.123677                  12.0                   3.0   \n",
       "\n",
       "   SCC_Follow_Info_0  SCC_Follow_Info_1  SCC_Follow_Info_2  SCC_Follow_Info_3  \\\n",
       "0               -1.0           0.000000           0.000000           0.000000   \n",
       "1               -1.0           0.000000           0.000000           0.000000   \n",
       "2               -1.0           0.000000           0.000000           0.000000   \n",
       "3               -1.0           0.000000           0.000000           0.000000   \n",
       "4               10.0          71.755615       10935.563477          55.655613   \n",
       "\n",
       "   SCC_Follow_Info_4  SCC_Follow_Info_5  SCC_Follow_Info_6  SCC_Follow_Info_7  \\\n",
       "0                0.0           0.000000                0.0             0.0000   \n",
       "1                0.0           0.000000                0.0             0.0000   \n",
       "2                0.0           0.000000                0.0             0.0000   \n",
       "3                0.0           0.000000                0.0             0.0000   \n",
       "4            10000.0          15.140205              312.0        104728.9375   \n",
       "\n",
       "   SCC_Follow_Info_8  VDS_Chassis_CG_Position_0  VDS_Chassis_CG_Position_1  \\\n",
       "0                0.0                   0.000000                   0.000000   \n",
       "1                0.0                   0.000000                   0.000000   \n",
       "2                0.0                   0.000000                   0.000000   \n",
       "3                0.0              104799.312831                 312.121618   \n",
       "4                0.0              104799.312759                 312.121677   \n",
       "\n",
       "   VDS_Chassis_CG_Position_2  SCC_Percentage_Lane_Deviation  \n",
       "0                   0.000000                       0.000000  \n",
       "1                   0.000000                       0.000000  \n",
       "2                   0.000000                       0.000000  \n",
       "3                  -1.738051                       0.000000  \n",
       "4                  -1.737743                      -1.030639  "
      ]
     },
     "execution_count": 8,
     "metadata": {},
     "output_type": "execute_result"
    }
   ],
   "source": [
    "def calculate_lane_deviation_percentage(row):\n",
    "    if row['SCC_Lane_Deviation_0'] == 0:\n",
    "        return 0\n",
    "    deviation = row['SCC_Lane_Deviation_1']\n",
    "    width = row['SCC_Lane_Deviation_2']\n",
    "    return 100 * deviation / width\n",
    "data['SCC_Percentage_Lane_Deviation'] = data.apply(calculate_lane_deviation_percentage, axis=1)\n",
    "data.head()"
   ]
  },
  {
   "cell_type": "code",
   "execution_count": 9,
   "metadata": {},
   "outputs": [
    {
     "data": {
      "text/plain": [
       "(array([7.71000e+02, 5.59430e+04, 9.33875e+05, 5.56337e+05, 3.62460e+04,\n",
       "        2.34500e+03, 1.79700e+03, 3.30400e+03, 1.22800e+04, 3.06410e+04]),\n",
       " array([-4.99538263e+01, -3.33313012e+01, -1.67087762e+01, -8.62510999e-02,\n",
       "         1.65362740e+01,  3.31587990e+01,  4.97813241e+01,  6.64038491e+01,\n",
       "         8.30263742e+01,  9.96488992e+01,  1.16271424e+02]),\n",
       " <BarContainer object of 10 artists>)"
      ]
     },
     "execution_count": 9,
     "metadata": {},
     "output_type": "execute_result"
    },
    {
     "data": {
      "image/png": "[encoded data removed]",
      "text/plain": [
       "<Figure size 432x288 with 1 Axes>"
      ]
     },
     "metadata": {
      "needs_background": "light"
     },
     "output_type": "display_data"
    }
   ],
   "source": [
    "plt.hist(data[data['SCC_Percentage_Lane_Deviation'] != 0]['SCC_Percentage_Lane_Deviation'])"
   ]
  },
  {
   "cell_type": "code",
   "execution_count": 10,
   "metadata": {},
   "outputs": [
    {
     "data": {
      "text/plain": [
       " 10.0    1588541\n",
       "-1.0       45073\n",
       "Name: SCC_Follow_Info_0, dtype: int64"
      ]
     },
     "execution_count": 10,
     "metadata": {},
     "output_type": "execute_result"
    }
   ],
   "source": [
    "data['SCC_Follow_Info_0'].value_counts()"
   ]
  },
  {
   "cell_type": "code",
   "execution_count": 11,
   "metadata": {},
   "outputs": [],
   "source": [
    "filtered_follow_data = data[data['SCC_Follow_Info_0'] != -1]"
   ]
  },
  {
   "cell_type": "code",
   "execution_count": 12,
   "metadata": {},
   "outputs": [
    {
     "data": {
      "text/plain": [
       "(array([1.15025e+06, 2.70874e+05, 1.23387e+05, 2.94590e+04, 1.12250e+04,\n",
       "        7.91000e+02, 6.30000e+02, 6.48000e+02, 6.32000e+02, 6.45000e+02]),\n",
       " array([  38.29796982,  820.29815331, 1602.29833679, 2384.29852028,\n",
       "        3166.29870377, 3948.29888725, 4730.29907074, 5512.29925423,\n",
       "        6294.29943771, 7076.2996212 , 7858.29980469]),\n",
       " <BarContainer object of 10 artists>)"
      ]
     },
     "execution_count": 12,
     "metadata": {},
     "output_type": "execute_result"
    },
    {
     "data": {
      "image/png": "[encoded data removed]",
      "text/plain": [
       "<Figure size 432x288 with 1 Axes>"
      ]
     },
     "metadata": {
      "needs_background": "light"
     },
     "output_type": "display_data"
    }
   ],
   "source": [
    "plt.hist(filtered_follow_data['SCC_Follow_Info_1'])"
   ]
  },
  {
   "cell_type": "code",
   "execution_count": 13,
   "metadata": {},
   "outputs": [
    {
     "data": {
      "text/plain": [
       "(array([  153.,   689.,   622.,   619.,   553.,  1388.,  3354.,  3459.,\n",
       "         7092., 10363.]),\n",
       " array([38.29796982, 44.46793633, 50.63790283, 56.80786934, 62.97783585,\n",
       "        69.14780235, 75.31776886, 81.48773537, 87.65770187, 93.82766838,\n",
       "        99.99763489]),\n",
       " <BarContainer object of 10 artists>)"
      ]
     },
     "execution_count": 13,
     "metadata": {},
     "output_type": "execute_result"
    },
    {
     "data": {
      "image/png": "[encoded data removed]",
      "text/plain": [
       "<Figure size 432x288 with 1 Axes>"
      ]
     },
     "metadata": {
      "needs_background": "light"
     },
     "output_type": "display_data"
    }
   ],
   "source": [
    "plt.hist(filtered_follow_data[filtered_follow_data['SCC_Follow_Info_1'] < 100]['SCC_Follow_Info_1'])"
   ]
  },
  {
   "cell_type": "code",
   "execution_count": 14,
   "metadata": {},
   "outputs": [
    {
     "data": {
      "text/plain": [
       "(array([1.588522e+06, 8.000000e+00, 5.000000e+00, 1.000000e+00,\n",
       "        1.000000e+00, 2.000000e+00, 0.000000e+00, 1.000000e+00,\n",
       "        0.000000e+00, 1.000000e+00]),\n",
       " array([3.74765188e-01, 8.80865838e+15, 1.76173168e+16, 2.64259751e+16,\n",
       "        3.52346335e+16, 4.40432919e+16, 5.28519503e+16, 6.16606086e+16,\n",
       "        7.04692670e+16, 7.92779254e+16, 8.80865838e+16]),\n",
       " <BarContainer object of 10 artists>)"
      ]
     },
     "execution_count": 14,
     "metadata": {},
     "output_type": "execute_result"
    },
    {
     "data": {
      "image/png": "[encoded data removed]",
      "text/plain": [
       "<Figure size 432x288 with 1 Axes>"
      ]
     },
     "metadata": {
      "needs_background": "light"
     },
     "output_type": "display_data"
    }
   ],
   "source": [
    "plt.hist(filtered_follow_data['SCC_Follow_Info_2'])"
   ]
  },
  {
   "cell_type": "code",
   "execution_count": 15,
   "metadata": {},
   "outputs": [
    {
     "data": {
      "text/plain": [
       "(array([115.,  57.,  41.,  96., 337., 141., 125., 413., 540., 934.]),\n",
       " array([0.37476519, 0.4372806 , 0.49979601, 0.56231142, 0.62482683,\n",
       "        0.68734224, 0.74985765, 0.81237306, 0.87488847, 0.93740388,\n",
       "        0.9999193 ]),\n",
       " <BarContainer object of 10 artists>)"
      ]
     },
     "execution_count": 15,
     "metadata": {},
     "output_type": "execute_result"
    },
    {
     "data": {
      "image/png": "[encoded data removed]",
      "text/plain": [
       "<Figure size 432x288 with 1 Axes>"
      ]
     },
     "metadata": {
      "needs_background": "light"
     },
     "output_type": "display_data"
    }
   ],
   "source": [
    "plt.hist(filtered_follow_data[filtered_follow_data['SCC_Follow_Info_2'] < 1]['SCC_Follow_Info_2'])"
   ]
  },
  {
   "cell_type": "code",
   "execution_count": 16,
   "metadata": {},
   "outputs": [
    {
     "data": {
      "text/plain": [
       "(array([1.15025e+06, 2.70874e+05, 1.23387e+05, 2.94590e+04, 1.12250e+04,\n",
       "        7.91000e+02, 6.30000e+02, 6.48000e+02, 6.32000e+02, 6.45000e+02]),\n",
       " array([  22.19796944,  804.1981432 , 1586.19831696, 2368.19849072,\n",
       "        3150.19866447, 3932.19883823, 4714.19901199, 5496.19918575,\n",
       "        6278.19935951, 7060.19953327, 7842.19970703]),\n",
       " <BarContainer object of 10 artists>)"
      ]
     },
     "execution_count": 16,
     "metadata": {},
     "output_type": "execute_result"
    },
    {
     "data": {
      "image/png": "[encoded data removed]",
      "text/plain": [
       "<Figure size 432x288 with 1 Axes>"
      ]
     },
     "metadata": {
      "needs_background": "light"
     },
     "output_type": "display_data"
    }
   ],
   "source": [
    "plt.hist(filtered_follow_data['SCC_Follow_Info_3'])"
   ]
  },
  {
   "cell_type": "code",
   "execution_count": 17,
   "metadata": {},
   "outputs": [
    {
     "data": {
      "text/plain": [
       "(array([894221., 261241., 159855., 112851.,  70374.,  54954.,  17834.,\n",
       "          3434.,   9470.,   1108.]),\n",
       " array([  22.19796944,  419.89072132,  817.58347321, 1215.27622509,\n",
       "        1612.96897697, 2010.66172886, 2408.35448074, 2806.04723263,\n",
       "        3203.73998451, 3601.4327364 , 3999.12548828]),\n",
       " <BarContainer object of 10 artists>)"
      ]
     },
     "execution_count": 17,
     "metadata": {},
     "output_type": "execute_result"
    },
    {
     "data": {
      "image/png": "[encoded data removed]",
      "text/plain": [
       "<Figure size 432x288 with 1 Axes>"
      ]
     },
     "metadata": {
      "needs_background": "light"
     },
     "output_type": "display_data"
    }
   ],
   "source": [
    "plt.hist(filtered_follow_data[filtered_follow_data['SCC_Follow_Info_3'] < 4000]['SCC_Follow_Info_3'])"
   ]
  },
  {
   "cell_type": "code",
   "execution_count": 18,
   "metadata": {},
   "outputs": [
    {
     "data": {
      "text/plain": [
       "(array([1.563000e+03, 1.496000e+03, 9.400000e+04, 8.701000e+03,\n",
       "        7.090000e+03, 1.866400e+04, 1.058000e+03, 6.140000e+02,\n",
       "        8.453800e+04, 1.370817e+06]),\n",
       " array([15.09962845, 21.2629818 , 27.42633514, 33.58968849, 39.75304184,\n",
       "        45.91639519, 52.07974854, 58.24310188, 64.40645523, 70.56980858,\n",
       "        76.73316193]),\n",
       " <BarContainer object of 10 artists>)"
      ]
     },
     "execution_count": 18,
     "metadata": {},
     "output_type": "execute_result"
    },
    {
     "data": {
      "image/png": "[encoded data removed]",
      "text/plain": [
       "<Figure size 432x288 with 1 Axes>"
      ]
     },
     "metadata": {
      "needs_background": "light"
     },
     "output_type": "display_data"
    }
   ],
   "source": [
    "plt.hist(filtered_follow_data['SCC_Follow_Info_5'])"
   ]
  },
  {
   "cell_type": "code",
   "execution_count": 19,
   "metadata": {},
   "outputs": [
    {
     "data": {
      "text/plain": [
       "34"
      ]
     },
     "execution_count": 19,
     "metadata": {},
     "output_type": "execute_result"
    }
   ],
   "source": [
    "len(files)"
   ]
  },
  {
   "cell_type": "code",
   "execution_count": null,
   "metadata": {},
   "outputs": [],
   "source": []
  }
 ],
 "metadata": {
  "kernelspec": {
   "display_name": "Python 3",
   "language": "python",
   "name": "python3"
  },
  "language_info": {
   "codemirror_mode": {
    "name": "ipython",
    "version": 3
   },
   "file_extension": ".py",
   "mimetype": "text/x-python",
   "name": "python",
   "nbconvert_exporter": "python",
   "pygments_lexer": "ipython3",
   "version": "3.8.10"
  }
 },
 "nbformat": 4,
 "nbformat_minor": 4
}
