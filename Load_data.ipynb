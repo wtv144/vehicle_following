{
 "cells": [
  {
   "cell_type": "code",
   "execution_count": 4,
   "id": "4423236a-e98f-46bd-a775-746e55bb37ac",
   "metadata": {
    "scrolled": true,
    "tags": []
   },
   "outputs": [
    {
     "name": "stdout",
     "output_type": "stream",
     "text": [
      "Collecting pytorch-forecasting\n",
      "  Downloading pytorch_forecasting-0.9.0-py3-none-any.whl (112 kB)\n",
      "\u001b[K     |████████████████████████████████| 112 kB 3.8 MB/s eta 0:00:01\n",
      "\u001b[?25hCollecting optuna<3.0.0,>=2.3.0\n",
      "  Downloading optuna-2.8.0-py3-none-any.whl (301 kB)\n",
      "\u001b[K     |████████████████████████████████| 301 kB 11.6 MB/s eta 0:00:01\n",
      "\u001b[?25hCollecting statsmodels\n",
      "  Downloading statsmodels-0.12.2-cp38-cp38-manylinux1_x86_64.whl (9.4 MB)\n",
      "\u001b[K     |████████████████████████████████| 9.4 MB 7.7 MB/s eta 0:00:01\n",
      "\u001b[?25hRequirement already satisfied: pandas<2.0.0,>=1.1.0 in /home/warren/mlenv/lib/python3.8/site-packages (from pytorch-forecasting) (1.2.4)\n",
      "Requirement already satisfied: matplotlib in /home/warren/mlenv/lib/python3.8/site-packages (from pytorch-forecasting) (3.4.2)\n",
      "Collecting pytorch-lightning<2.0.0,>=1.2.4\n",
      "  Downloading pytorch_lightning-1.3.7.post0-py3-none-any.whl (810 kB)\n",
      "\u001b[K     |████████████████████████████████| 810 kB 18.3 MB/s eta 0:00:01\n",
      "\u001b[?25hRequirement already satisfied: torch<2.0,>=1.7 in /home/warren/mlenv/lib/python3.8/site-packages (from pytorch-forecasting) (1.9.0+cu111)\n",
      "Requirement already satisfied: scikit-learn<0.25,>=0.23 in /home/warren/mlenv/lib/python3.8/site-packages (from pytorch-forecasting) (0.24.2)\n",
      "Requirement already satisfied: scipy in /home/warren/mlenv/lib/python3.8/site-packages (from pytorch-forecasting) (1.6.3)\n",
      "Requirement already satisfied: packaging>=20.0 in /home/warren/mlenv/lib/python3.8/site-packages (from optuna<3.0.0,>=2.3.0->pytorch-forecasting) (20.9)\n",
      "Collecting tqdm\n",
      "  Downloading tqdm-4.61.1-py2.py3-none-any.whl (75 kB)\n",
      "\u001b[K     |████████████████████████████████| 75 kB 11.9 MB/s eta 0:00:01\n",
      "\u001b[?25hCollecting colorlog\n",
      "  Downloading colorlog-5.0.1-py2.py3-none-any.whl (10 kB)\n",
      "Collecting alembic\n",
      "  Downloading alembic-1.6.5-py2.py3-none-any.whl (164 kB)\n",
      "\u001b[K     |████████████████████████████████| 164 kB 21.3 MB/s eta 0:00:01\n",
      "\u001b[?25hCollecting cmaes>=0.8.2\n",
      "  Downloading cmaes-0.8.2-py3-none-any.whl (15 kB)\n",
      "Collecting cliff\n",
      "  Downloading cliff-3.8.0-py3-none-any.whl (80 kB)\n",
      "\u001b[K     |████████████████████████████████| 80 kB 18.0 MB/s eta 0:00:01\n",
      "\u001b[?25hCollecting sqlalchemy>=1.1.0\n",
      "  Downloading SQLAlchemy-1.4.19-cp38-cp38-manylinux_2_5_x86_64.manylinux1_x86_64.manylinux_2_17_x86_64.manylinux2014_x86_64.whl (1.5 MB)\n",
      "\u001b[K     |████████████████████████████████| 1.5 MB 21.3 MB/s eta 0:00:01\n",
      "\u001b[?25hRequirement already satisfied: numpy in /home/warren/mlenv/lib/python3.8/site-packages (from optuna<3.0.0,>=2.3.0->pytorch-forecasting) (1.20.3)\n",
      "Collecting patsy>=0.5\n",
      "  Downloading patsy-0.5.1-py2.py3-none-any.whl (231 kB)\n",
      "\u001b[K     |████████████████████████████████| 231 kB 13.1 MB/s eta 0:00:01\n",
      "\u001b[?25hRequirement already satisfied: python-dateutil>=2.7.3 in /home/warren/mlenv/lib/python3.8/site-packages (from pandas<2.0.0,>=1.1.0->pytorch-forecasting) (2.8.1)\n",
      "Requirement already satisfied: pytz>=2017.3 in /home/warren/mlenv/lib/python3.8/site-packages (from pandas<2.0.0,>=1.1.0->pytorch-forecasting) (2021.1)\n",
      "Requirement already satisfied: pyparsing>=2.2.1 in /home/warren/mlenv/lib/python3.8/site-packages (from matplotlib->pytorch-forecasting) (2.4.7)\n",
      "Requirement already satisfied: pillow>=6.2.0 in /home/warren/mlenv/lib/python3.8/site-packages (from matplotlib->pytorch-forecasting) (8.2.0)\n",
      "Requirement already satisfied: kiwisolver>=1.0.1 in /home/warren/mlenv/lib/python3.8/site-packages (from matplotlib->pytorch-forecasting) (1.3.1)\n",
      "Requirement already satisfied: cycler>=0.10 in /home/warren/mlenv/lib/python3.8/site-packages (from matplotlib->pytorch-forecasting) (0.10.0)\n",
      "Collecting fsspec[http]!=2021.06.0,>=2021.05.0\n",
      "  Downloading fsspec-2021.6.1-py3-none-any.whl (115 kB)\n",
      "\u001b[K     |████████████████████████████████| 115 kB 20.1 MB/s eta 0:00:01\n",
      "\u001b[?25hCollecting pyDeprecate==0.3.0\n",
      "  Downloading pyDeprecate-0.3.0-py3-none-any.whl (10 kB)\n",
      "Collecting tensorboard!=2.5.0,>=2.2.0\n",
      "  Downloading tensorboard-2.4.1-py3-none-any.whl (10.6 MB)\n",
      "\u001b[K     |████████████████████████████████| 10.6 MB 27.8 MB/s eta 0:00:01\n",
      "\u001b[?25hCollecting torchmetrics>=0.2.0\n",
      "  Downloading torchmetrics-0.3.2-py3-none-any.whl (274 kB)\n",
      "\u001b[K     |████████████████████████████████| 274 kB 19.5 MB/s eta 0:00:01\n",
      "\u001b[?25hCollecting future>=0.17.1\n",
      "  Downloading future-0.18.2.tar.gz (829 kB)\n",
      "\u001b[K     |████████████████████████████████| 829 kB 13.8 MB/s eta 0:00:01\n",
      "\u001b[?25hCollecting PyYAML<=5.4.1,>=5.1\n",
      "  Downloading PyYAML-5.4.1-cp38-cp38-manylinux1_x86_64.whl (662 kB)\n",
      "\u001b[K     |████████████████████████████████| 662 kB 14.3 MB/s eta 0:00:01\n",
      "\u001b[?25hRequirement already satisfied: typing-extensions in /home/warren/mlenv/lib/python3.8/site-packages (from torch<2.0,>=1.7->pytorch-forecasting) (3.10.0.0)\n",
      "Requirement already satisfied: joblib>=0.11 in /home/warren/mlenv/lib/python3.8/site-packages (from scikit-learn<0.25,>=0.23->pytorch-forecasting) (1.0.1)\n",
      "Requirement already satisfied: threadpoolctl>=2.0.0 in /home/warren/mlenv/lib/python3.8/site-packages (from scikit-learn<0.25,>=0.23->pytorch-forecasting) (2.1.0)\n",
      "Collecting Mako\n",
      "  Downloading Mako-1.1.4-py2.py3-none-any.whl (75 kB)\n",
      "\u001b[K     |████████████████████████████████| 75 kB 9.4 MB/s  eta 0:00:01\n",
      "\u001b[?25hCollecting python-editor>=0.3\n",
      "  Downloading python_editor-1.0.4-py3-none-any.whl (4.9 kB)\n",
      "Collecting cmd2>=1.0.0\n",
      "  Downloading cmd2-2.1.1-py3-none-any.whl (140 kB)\n",
      "\u001b[K     |████████████████████████████████| 140 kB 25.5 MB/s eta 0:00:01\n",
      "\u001b[?25hCollecting PrettyTable>=0.7.2\n",
      "  Downloading prettytable-2.1.0-py3-none-any.whl (22 kB)\n",
      "Collecting pbr!=2.1.0,>=2.0.0\n",
      "  Downloading pbr-5.6.0-py2.py3-none-any.whl (111 kB)\n",
      "\u001b[K     |████████████████████████████████| 111 kB 31.6 MB/s eta 0:00:01\n",
      "\u001b[?25hCollecting stevedore>=2.0.1\n",
      "  Downloading stevedore-3.3.0-py3-none-any.whl (49 kB)\n",
      "\u001b[K     |████████████████████████████████| 49 kB 17.4 MB/s eta 0:00:01\n",
      "\u001b[?25hCollecting greenlet!=0.4.17; python_version >= \"3\"\n",
      "  Downloading greenlet-1.1.0-cp38-cp38-manylinux_2_17_x86_64.manylinux2014_x86_64.whl (164 kB)\n",
      "\u001b[K     |████████████████████████████████| 164 kB 21.1 MB/s eta 0:00:01\n",
      "\u001b[?25hRequirement already satisfied: six in /home/warren/mlenv/lib/python3.8/site-packages (from patsy>=0.5->statsmodels->pytorch-forecasting) (1.16.0)\n",
      "Collecting aiohttp; extra == \"http\"\n",
      "  Downloading aiohttp-3.7.4.post0-cp38-cp38-manylinux2014_x86_64.whl (1.5 MB)\n",
      "\u001b[K     |████████████████████████████████| 1.5 MB 11.9 MB/s eta 0:00:01\n",
      "\u001b[?25hRequirement already satisfied: requests; extra == \"http\" in /home/warren/mlenv/lib/python3.8/site-packages (from fsspec[http]!=2021.06.0,>=2021.05.0->pytorch-lightning<2.0.0,>=1.2.4->pytorch-forecasting) (2.25.1)\n",
      "Collecting grpcio>=1.24.3\n",
      "  Downloading grpcio-1.38.1-cp38-cp38-manylinux2014_x86_64.whl (4.2 MB)\n",
      "\u001b[K     |████████████████████████████████| 4.2 MB 15.5 MB/s eta 0:00:01\n",
      "\u001b[?25hCollecting werkzeug>=0.11.15\n",
      "  Downloading Werkzeug-2.0.1-py3-none-any.whl (288 kB)\n",
      "\u001b[K     |████████████████████████████████| 288 kB 10.2 MB/s eta 0:00:01\n",
      "\u001b[?25hCollecting protobuf>=3.6.0\n",
      "  Downloading protobuf-3.17.3-cp38-cp38-manylinux_2_5_x86_64.manylinux1_x86_64.whl (1.0 MB)\n",
      "\u001b[K     |████████████████████████████████| 1.0 MB 22.4 MB/s eta 0:00:01\n",
      "\u001b[?25hCollecting google-auth-oauthlib<0.5,>=0.4.1\n",
      "  Downloading google_auth_oauthlib-0.4.4-py2.py3-none-any.whl (18 kB)\n",
      "Collecting absl-py>=0.4\n",
      "  Downloading absl_py-0.13.0-py3-none-any.whl (132 kB)\n",
      "\u001b[K     |████████████████████████████████| 132 kB 26.7 MB/s eta 0:00:01\n",
      "\u001b[?25hRequirement already satisfied: setuptools>=41.0.0 in /home/warren/mlenv/lib/python3.8/site-packages (from tensorboard!=2.5.0,>=2.2.0->pytorch-lightning<2.0.0,>=1.2.4->pytorch-forecasting) (44.0.0)\n",
      "Collecting tensorboard-plugin-wit>=1.6.0\n",
      "  Downloading tensorboard_plugin_wit-1.8.0-py3-none-any.whl (781 kB)\n",
      "\u001b[K     |████████████████████████████████| 781 kB 48.7 MB/s eta 0:00:01\n",
      "\u001b[?25hCollecting google-auth<2,>=1.6.3\n",
      "  Downloading google_auth-1.32.0-py2.py3-none-any.whl (147 kB)\n",
      "\u001b[K     |████████████████████████████████| 147 kB 19.0 MB/s eta 0:00:01\n",
      "\u001b[?25hCollecting markdown>=2.6.8\n",
      "  Downloading Markdown-3.3.4-py3-none-any.whl (97 kB)\n",
      "\u001b[K     |████████████████████████████████| 97 kB 21.3 MB/s eta 0:00:01\n",
      "\u001b[?25hCollecting wheel>=0.26; python_version >= \"3\"\n",
      "  Downloading wheel-0.36.2-py2.py3-none-any.whl (35 kB)\n",
      "Requirement already satisfied: MarkupSafe>=0.9.2 in /home/warren/mlenv/lib/python3.8/site-packages (from Mako->alembic->optuna<3.0.0,>=2.3.0->pytorch-forecasting) (2.0.1)\n",
      "Collecting pyperclip>=1.6\n",
      "  Downloading pyperclip-1.8.2.tar.gz (20 kB)\n",
      "Collecting colorama>=0.3.7\n",
      "  Downloading colorama-0.4.4-py2.py3-none-any.whl (16 kB)\n",
      "Requirement already satisfied: wcwidth>=0.1.7 in /home/warren/mlenv/lib/python3.8/site-packages (from cmd2>=1.0.0->cliff->optuna<3.0.0,>=2.3.0->pytorch-forecasting) (0.2.5)\n",
      "Requirement already satisfied: attrs>=16.3.0 in /home/warren/mlenv/lib/python3.8/site-packages (from cmd2>=1.0.0->cliff->optuna<3.0.0,>=2.3.0->pytorch-forecasting) (21.2.0)\n",
      "Requirement already satisfied: chardet<5.0,>=2.0 in /home/warren/mlenv/lib/python3.8/site-packages (from aiohttp; extra == \"http\"->fsspec[http]!=2021.06.0,>=2021.05.0->pytorch-lightning<2.0.0,>=1.2.4->pytorch-forecasting) (4.0.0)\n",
      "Collecting multidict<7.0,>=4.5\n",
      "  Downloading multidict-5.1.0-cp38-cp38-manylinux2014_x86_64.whl (159 kB)\n",
      "\u001b[K     |████████████████████████████████| 159 kB 18.8 MB/s eta 0:00:01\n",
      "\u001b[?25hCollecting yarl<2.0,>=1.0\n",
      "  Downloading yarl-1.6.3-cp38-cp38-manylinux2014_x86_64.whl (324 kB)\n",
      "\u001b[K     |████████████████████████████████| 324 kB 33.5 MB/s eta 0:00:01\n",
      "\u001b[?25hCollecting async-timeout<4.0,>=3.0\n",
      "  Downloading async_timeout-3.0.1-py3-none-any.whl (8.2 kB)\n",
      "Requirement already satisfied: certifi>=2017.4.17 in /home/warren/mlenv/lib/python3.8/site-packages (from requests; extra == \"http\"->fsspec[http]!=2021.06.0,>=2021.05.0->pytorch-lightning<2.0.0,>=1.2.4->pytorch-forecasting) (2021.5.30)\n",
      "Collecting idna<3,>=2.5\n",
      "  Downloading idna-2.10-py2.py3-none-any.whl (58 kB)\n",
      "\u001b[K     |████████████████████████████████| 58 kB 5.5 MB/s  eta 0:00:01\n",
      "\u001b[?25hRequirement already satisfied: urllib3<1.27,>=1.21.1 in /home/warren/mlenv/lib/python3.8/site-packages (from requests; extra == \"http\"->fsspec[http]!=2021.06.0,>=2021.05.0->pytorch-lightning<2.0.0,>=1.2.4->pytorch-forecasting) (1.26.5)\n",
      "Collecting requests-oauthlib>=0.7.0\n",
      "  Downloading requests_oauthlib-1.3.0-py2.py3-none-any.whl (23 kB)\n",
      "Collecting rsa<5,>=3.1.4; python_version >= \"3.6\"\n",
      "  Downloading rsa-4.7.2-py3-none-any.whl (34 kB)\n",
      "Collecting cachetools<5.0,>=2.0.0\n",
      "  Downloading cachetools-4.2.2-py3-none-any.whl (11 kB)\n",
      "Collecting pyasn1-modules>=0.2.1\n",
      "  Downloading pyasn1_modules-0.2.8-py2.py3-none-any.whl (155 kB)\n",
      "\u001b[K     |████████████████████████████████| 155 kB 45.1 MB/s eta 0:00:01\n",
      "\u001b[?25hCollecting oauthlib>=3.0.0\n",
      "  Downloading oauthlib-3.1.1-py2.py3-none-any.whl (146 kB)\n",
      "\u001b[K     |████████████████████████████████| 146 kB 20.1 MB/s eta 0:00:01\n",
      "\u001b[?25hCollecting pyasn1>=0.1.3\n",
      "  Downloading pyasn1-0.4.8-py2.py3-none-any.whl (77 kB)\n",
      "\u001b[K     |████████████████████████████████| 77 kB 15.5 MB/s eta 0:00:01\n",
      "\u001b[?25hBuilding wheels for collected packages: future, pyperclip\n",
      "  Building wheel for future (setup.py) ... \u001b[?25lerror\n",
      "\u001b[31m  ERROR: Command errored out with exit status 1:\n",
      "   command: /home/warren/mlenv/bin/python3 -u -c 'import sys, setuptools, tokenize; sys.argv[0] = '\"'\"'/tmp/pip-install-sopde91t/future/setup.py'\"'\"'; __file__='\"'\"'/tmp/pip-install-sopde91t/future/setup.py'\"'\"';f=getattr(tokenize, '\"'\"'open'\"'\"', open)(__file__);code=f.read().replace('\"'\"'\\r\\n'\"'\"', '\"'\"'\\n'\"'\"');f.close();exec(compile(code, __file__, '\"'\"'exec'\"'\"'))' bdist_wheel -d /tmp/pip-wheel-uitv5moc\n",
      "       cwd: /tmp/pip-install-sopde91t/future/\n",
      "  Complete output (6 lines):\n",
      "  usage: setup.py [global_opts] cmd1 [cmd1_opts] [cmd2 [cmd2_opts] ...]\n",
      "     or: setup.py --help [cmd1 cmd2 ...]\n",
      "     or: setup.py --help-commands\n",
      "     or: setup.py cmd --help\n",
      "  \n",
      "  error: invalid command 'bdist_wheel'\n",
      "  ----------------------------------------\u001b[0m\n",
      "\u001b[31m  ERROR: Failed building wheel for future\u001b[0m\n",
      "\u001b[?25h  Running setup.py clean for future\n",
      "  Building wheel for pyperclip (setup.py) ... \u001b[?25lerror\n",
      "\u001b[31m  ERROR: Command errored out with exit status 1:\n",
      "   command: /home/warren/mlenv/bin/python3 -u -c 'import sys, setuptools, tokenize; sys.argv[0] = '\"'\"'/tmp/pip-install-sopde91t/pyperclip/setup.py'\"'\"'; __file__='\"'\"'/tmp/pip-install-sopde91t/pyperclip/setup.py'\"'\"';f=getattr(tokenize, '\"'\"'open'\"'\"', open)(__file__);code=f.read().replace('\"'\"'\\r\\n'\"'\"', '\"'\"'\\n'\"'\"');f.close();exec(compile(code, __file__, '\"'\"'exec'\"'\"'))' bdist_wheel -d /tmp/pip-wheel-ehqo_k3v\n",
      "       cwd: /tmp/pip-install-sopde91t/pyperclip/\n",
      "  Complete output (6 lines):\n",
      "  usage: setup.py [global_opts] cmd1 [cmd1_opts] [cmd2 [cmd2_opts] ...]\n",
      "     or: setup.py --help [cmd1 cmd2 ...]\n",
      "     or: setup.py --help-commands\n",
      "     or: setup.py cmd --help\n",
      "  \n",
      "  error: invalid command 'bdist_wheel'\n",
      "  ----------------------------------------\u001b[0m\n",
      "\u001b[31m  ERROR: Failed building wheel for pyperclip\u001b[0m\n",
      "\u001b[?25h  Running setup.py clean for pyperclip\n",
      "Failed to build future pyperclip\n",
      "Installing collected packages: tqdm, colorlog, Mako, greenlet, sqlalchemy, python-editor, alembic, cmaes, PyYAML, pyperclip, colorama, cmd2, PrettyTable, pbr, stevedore, cliff, optuna, patsy, statsmodels, multidict, idna, yarl, async-timeout, aiohttp, fsspec, pyDeprecate, grpcio, werkzeug, protobuf, oauthlib, requests-oauthlib, pyasn1, rsa, cachetools, pyasn1-modules, google-auth, google-auth-oauthlib, absl-py, tensorboard-plugin-wit, markdown, wheel, tensorboard, torchmetrics, future, pytorch-lightning, pytorch-forecasting\n",
      "    Running setup.py install for pyperclip ... \u001b[?25ldone\n",
      "\u001b[?25h  Attempting uninstall: idna\n",
      "    Found existing installation: idna 3.2\n",
      "    Uninstalling idna-3.2:\n",
      "      Successfully uninstalled idna-3.2\n",
      "    Running setup.py install for future ... \u001b[?25ldone\n",
      "\u001b[?25hSuccessfully installed Mako-1.1.4 PrettyTable-2.1.0 PyYAML-5.4.1 absl-py-0.13.0 aiohttp-3.7.4.post0 alembic-1.6.5 async-timeout-3.0.1 cachetools-4.2.2 cliff-3.8.0 cmaes-0.8.2 cmd2-2.1.1 colorama-0.4.4 colorlog-5.0.1 fsspec-2021.6.1 future-0.18.2 google-auth-1.32.0 google-auth-oauthlib-0.4.4 greenlet-1.1.0 grpcio-1.38.1 idna-2.10 markdown-3.3.4 multidict-5.1.0 oauthlib-3.1.1 optuna-2.8.0 patsy-0.5.1 pbr-5.6.0 protobuf-3.17.3 pyDeprecate-0.3.0 pyasn1-0.4.8 pyasn1-modules-0.2.8 pyperclip-1.8.2 python-editor-1.0.4 pytorch-forecasting-0.9.0 pytorch-lightning-1.3.7.post0 requests-oauthlib-1.3.0 rsa-4.7.2 sqlalchemy-1.4.19 statsmodels-0.12.2 stevedore-3.3.0 tensorboard-2.4.1 tensorboard-plugin-wit-1.8.0 torchmetrics-0.3.2 tqdm-4.61.1 werkzeug-2.0.1 wheel-0.36.2 yarl-1.6.3\n"
     ]
    }
   ],
   "source": [
    "!pip install pytorch-forecasting"
   ]
  },
  {
   "cell_type": "code",
   "execution_count": 1,
   "id": "0045d855-a8bf-41cc-8462-59206cc84666",
   "metadata": {},
   "outputs": [],
   "source": [
    "import pandas as pd\n",
    "import numpy as np\n",
    "import os\n",
    "from ts_data import TS_Data\n",
    "import torch\n",
    "from torch.utils.data import Dataset, DataLoader\n",
    "import torchvision.transforms.functional as F\n",
    "from torchvision import transforms, utils"
   ]
  },
  {
   "cell_type": "code",
   "execution_count": 2,
   "id": "b3851d58-7510-4dac-b74c-182cb004a0b6",
   "metadata": {},
   "outputs": [],
   "source": [
    "fdir = \"/home/warren/Documents/UGRA/AIM/csv_files\""
   ]
  },
  {
   "cell_type": "code",
   "execution_count": 3,
   "id": "eda8d3d6-c29a-4084-9e73-e3c1e7f00bd2",
   "metadata": {},
   "outputs": [],
   "source": [
    "l = os.listdir(fdir)\n",
    "dir_len = len(l)\n"
   ]
  },
  {
   "cell_type": "code",
   "execution_count": 4,
   "id": "1e1b4781",
   "metadata": {},
   "outputs": [
    {
     "data": {
      "text/plain": [
       "['UW_VCS_37m_20160831105740.daq.csv',\n",
       " 'UW_VCS_37m_20160826143151.daq.csv',\n",
       " 'UW_VCS_37m_20160830095332.daq.csv',\n",
       " 'UW_VCS_37m_20160927133546.daq.csv',\n",
       " 'PID104A.daq.csv',\n",
       " 'UW_VCS_37m_20160919105342.daq.csv',\n",
       " 'UW_VCS_37m_20160906134747.daq.csv',\n",
       " 'UW_VCS_37m_20160906133045.daq.csv',\n",
       " 'UW_VCS_37m_20160707111701.daq.csv',\n",
       " 'UW_VCS_37m_20160923142631.daq.csv',\n",
       " 'VCS_PID101B.daq.csv',\n",
       " 'UW_VCS_37m_20160923121249.daq.csv',\n",
       " 'UW_VCS_37m_20160920130743.daq.csv',\n",
       " 'VCS_PID103B.daq.csv',\n",
       " 'UW_VCS_37m_20160923144110.daq.csv',\n",
       " 'UW_VCS_37m_20160829104756.daq.csv',\n",
       " 'UW_VCS_37m_20160826144658.daq.csv',\n",
       " 'UW_VCS_37m_20161116125417.daq.csv',\n",
       " 'UW_VCS_37m_20161115114106.daq.csv',\n",
       " 'UW_VCS_37m_20160923115305.daq.csv',\n",
       " 'UW_VCS_37m_20160927135151.daq.csv',\n",
       " 'PID104B.daq.csv',\n",
       " 'UW_VCS_37m_20161115112515.daq.csv',\n",
       " 'UW_VCS_37m_20161116124942.daq.csv',\n",
       " 'minisim_PID112B.daq.csv',\n",
       " 'UW_VCS_37m_20160830093307.daq.csv',\n",
       " 'VCS_PID101A.daq.csv',\n",
       " 'minisim_PID112A.daq.csv',\n",
       " 'UW_VCS_37m_20160920132052.daq.csv',\n",
       " 'UW_VCS_37m_20160919103222.daq.csv',\n",
       " 'UW_VCS_37m_20160831104128.daq.csv',\n",
       " 'UW_VCS_37m_20160810120237.daq.csv',\n",
       " 'VCS_PID103A.daq.csv',\n",
       " 'UW_VCS_37m_20160829111231.daq.csv']"
      ]
     },
     "execution_count": 4,
     "metadata": {},
     "output_type": "execute_result"
    }
   ],
   "source": [
    "l"
   ]
  },
  {
   "cell_type": "code",
   "execution_count": 5,
   "id": "6b629a6e-efab-448f-aba0-73c917f46053",
   "metadata": {
    "tags": []
   },
   "outputs": [
    {
     "name": "stdout",
     "output_type": "stream",
     "text": [
      "/home/warren/Documents/UGRA/AIM/csv_files/UW_VCS_37m_20160831105740.daq.csv\n",
      "/home/warren/Documents/UGRA/AIM/csv_files/UW_VCS_37m_20160826143151.daq.csv\n",
      "/home/warren/Documents/UGRA/AIM/csv_files/UW_VCS_37m_20160830095332.daq.csv\n",
      "/home/warren/Documents/UGRA/AIM/csv_files/UW_VCS_37m_20160927133546.daq.csv\n",
      "/home/warren/Documents/UGRA/AIM/csv_files/PID104A.daq.csv\n",
      "/home/warren/Documents/UGRA/AIM/csv_files/UW_VCS_37m_20160919105342.daq.csv\n",
      "/home/warren/Documents/UGRA/AIM/csv_files/UW_VCS_37m_20160906134747.daq.csv\n",
      "/home/warren/Documents/UGRA/AIM/csv_files/UW_VCS_37m_20160906133045.daq.csv\n",
      "/home/warren/Documents/UGRA/AIM/csv_files/UW_VCS_37m_20160707111701.daq.csv\n",
      "/home/warren/Documents/UGRA/AIM/csv_files/UW_VCS_37m_20160923142631.daq.csv\n",
      "/home/warren/Documents/UGRA/AIM/csv_files/VCS_PID101B.daq.csv\n",
      "/home/warren/Documents/UGRA/AIM/csv_files/UW_VCS_37m_20160923121249.daq.csv\n",
      "/home/warren/Documents/UGRA/AIM/csv_files/UW_VCS_37m_20160920130743.daq.csv\n",
      "/home/warren/Documents/UGRA/AIM/csv_files/VCS_PID103B.daq.csv\n",
      "/home/warren/Documents/UGRA/AIM/csv_files/UW_VCS_37m_20160923144110.daq.csv\n",
      "/home/warren/Documents/UGRA/AIM/csv_files/UW_VCS_37m_20160829104756.daq.csv\n",
      "/home/warren/Documents/UGRA/AIM/csv_files/UW_VCS_37m_20160826144658.daq.csv\n",
      "/home/warren/Documents/UGRA/AIM/csv_files/UW_VCS_37m_20161116125417.daq.csv\n",
      "/home/warren/Documents/UGRA/AIM/csv_files/UW_VCS_37m_20161115114106.daq.csv\n",
      "/home/warren/Documents/UGRA/AIM/csv_files/UW_VCS_37m_20160923115305.daq.csv\n",
      "/home/warren/Documents/UGRA/AIM/csv_files/UW_VCS_37m_20160927135151.daq.csv\n",
      "/home/warren/Documents/UGRA/AIM/csv_files/PID104B.daq.csv\n",
      "/home/warren/Documents/UGRA/AIM/csv_files/UW_VCS_37m_20161115112515.daq.csv\n",
      "/home/warren/Documents/UGRA/AIM/csv_files/UW_VCS_37m_20161116124942.daq.csv\n",
      "/home/warren/Documents/UGRA/AIM/csv_files/minisim_PID112B.daq.csv\n",
      "/home/warren/Documents/UGRA/AIM/csv_files/UW_VCS_37m_20160830093307.daq.csv\n",
      "/home/warren/Documents/UGRA/AIM/csv_files/VCS_PID101A.daq.csv\n",
      "/home/warren/Documents/UGRA/AIM/csv_files/minisim_PID112A.daq.csv\n",
      "/home/warren/Documents/UGRA/AIM/csv_files/UW_VCS_37m_20160920132052.daq.csv\n",
      "/home/warren/Documents/UGRA/AIM/csv_files/UW_VCS_37m_20160919103222.daq.csv\n",
      "/home/warren/Documents/UGRA/AIM/csv_files/UW_VCS_37m_20160831104128.daq.csv\n",
      "/home/warren/Documents/UGRA/AIM/csv_files/UW_VCS_37m_20160810120237.daq.csv\n",
      "/home/warren/Documents/UGRA/AIM/csv_files/VCS_PID103A.daq.csv\n",
      "/home/warren/Documents/UGRA/AIM/csv_files/UW_VCS_37m_20160829111231.daq.csv\n"
     ]
    }
   ],
   "source": [
    "datasets = [None]*len(l)\n",
    "for i in range(len(l)):\n",
    "    temp = os.path.join(fdir,l[i])\n",
    "    print(temp)\n",
    "    datasets[i] = TS_Data(temp,8,4)\n",
    "dataset =  torch.utils.data.ConcatDataset(datasets)\n",
    "dataloader = DataLoader(dataset, batch_size= 64)\n",
    "    \n",
    "    "
   ]
  },
  {
   "cell_type": "code",
   "execution_count": 17,
   "id": "75637f85-ecfe-4dec-bf88-03b287436f9b",
   "metadata": {},
   "outputs": [
    {
     "name": "stdout",
     "output_type": "stream",
     "text": [
      "(52906, 3)\n",
      "(52905, 3)\n"
     ]
    }
   ],
   "source": [
    "dat_cols = ['calculate_lane_deviation_percentage']\n",
    "for i in range(len(l)):\n",
    "    temp = os.path.join(fdir,l[i])\n",
    "    df = pd.read_csv(temp)\n",
    "    ddf = df[dat_cols].to_numpy()\n",
    "    print(ddf.shape)\n",
    "    data = ddf[1:,:] - ddf[:-1,:]\n",
    "    print(data.shape)\n",
    "    break \n",
    "    "
   ]
  },
  {
   "cell_type": "code",
   "execution_count": 6,
   "id": "77f479c3",
   "metadata": {},
   "outputs": [],
   "source": [
    "def get_dataloader(fdir, in_len,pred_len):\n",
    "    l = os.listdir(fdir)\n",
    "    datasets = [None]*len(l)\n",
    "    for i in range(len(l)):\n",
    "        temp = os.path.join(fdir,l[i])\n",
    "        datasets[i] = TS_Data(temp, in_len,pred_len)\n",
    "    dataset =  torch.utils.data.ConcatDataset(datasets)\n",
    "    dataloader = DataLoader(dataset, batch_size= 64)\n",
    "    return dataloader\n"
   ]
  },
  {
   "cell_type": "code",
   "execution_count": 7,
   "id": "c0a0e2b9-f6b7-4d2d-a0ef-2a5241a6fff7",
   "metadata": {},
   "outputs": [],
   "source": [
    "dl = get_dataloader(fdir,8,4)"
   ]
  },
  {
   "cell_type": "code",
   "execution_count": 6,
   "id": "0069e399-f87f-4dbf-bb76-09cb87430d5f",
   "metadata": {},
   "outputs": [
    {
     "name": "stderr",
     "output_type": "stream",
     "text": [
      "/home/warren/mlenv/lib/python3.8/site-packages/pytorch_lightning/metrics/__init__.py:43: LightningDeprecationWarning: `pytorch_lightning.metrics.*` module has been renamed to `torchmetrics.*` and split off to its own package (https://github.com/PyTorchLightning/metrics) since v1.3 and will be removed in v1.5\n",
      "  rank_zero_deprecation(\n"
     ]
    }
   ],
   "source": [
    "import pytorch_forecasting"
   ]
  },
  {
   "cell_type": "code",
   "execution_count": 1,
   "id": "af63cbc4-8281-4ef0-bc13-51061e30d136",
   "metadata": {},
   "outputs": [],
   "source": [
    "import numpy as np"
   ]
  },
  {
   "cell_type": "code",
   "execution_count": 5,
   "id": "8dfe0426-fcae-4340-8c41-46880e521228",
   "metadata": {},
   "outputs": [
    {
     "name": "stdout",
     "output_type": "stream",
     "text": [
      "[[0.9110173  0.47333055 0.85306618]\n",
      " [0.17627119 0.47233632 0.00511384]\n",
      " [0.23749835 0.95858712 0.10253532]\n",
      " [0.94858383 0.25261346 0.78367809]]\n"
     ]
    }
   ],
   "source": [
    "a=np.random.rand(4,3)\n",
    "print(a)"
   ]
  },
  {
   "cell_type": "code",
   "execution_count": 6,
   "id": "8e636b76-a90f-4fc0-8007-93a7726f1002",
   "metadata": {},
   "outputs": [
    {
     "data": {
      "text/plain": [
       "array([[0.9110173 , 0.47333055],\n",
       "       [0.17627119, 0.47233632],\n",
       "       [0.23749835, 0.95858712],\n",
       "       [0.94858383, 0.25261346]])"
      ]
     },
     "execution_count": 6,
     "metadata": {},
     "output_type": "execute_result"
    }
   ],
   "source": [
    "a[:,:-1]"
   ]
  },
  {
   "cell_type": "code",
   "execution_count": 7,
   "id": "0fde49eb-cee5-4544-a93e-e4fedd1616e5",
   "metadata": {},
   "outputs": [
    {
     "data": {
      "text/plain": [
       "array([[0.47333055, 0.85306618],\n",
       "       [0.47233632, 0.00511384],\n",
       "       [0.95858712, 0.10253532],\n",
       "       [0.25261346, 0.78367809]])"
      ]
     },
     "execution_count": 7,
     "metadata": {},
     "output_type": "execute_result"
    }
   ],
   "source": [
    "a[:,1:]"
   ]
  },
  {
   "cell_type": "code",
   "execution_count": 2,
   "id": "570b04a0-8ef2-438f-89aa-4c9750e17219",
   "metadata": {},
   "outputs": [],
   "source": [
    "from CNN import CNN\n",
    "import torch\n",
    "import torch.nn as nn"
   ]
  },
  {
   "cell_type": "code",
   "execution_count": 3,
   "id": "5a5d21e1-a3ad-4607-a10b-f69a76796a23",
   "metadata": {},
   "outputs": [],
   "source": [
    "model = CNN()\n"
   ]
  },
  {
   "cell_type": "code",
   "execution_count": 7,
   "id": "b7088a31-e4af-4cad-a041-93e10feb1bee",
   "metadata": {},
   "outputs": [
    {
     "data": {
      "text/plain": [
       "62006"
      ]
     },
     "execution_count": 7,
     "metadata": {},
     "output_type": "execute_result"
    }
   ],
   "source": [
    "sum(p.numel() for p in model.parameters())"
   ]
  },
  {
   "cell_type": "code",
   "execution_count": 7,
   "id": "9444e3c5-b0b6-40c2-bce0-45db525a4ce1",
   "metadata": {},
   "outputs": [],
   "source": [
    "model = nn.LSTM(16,40,5) #24 assuming that , check nonlinearities"
   ]
  },
  {
   "cell_type": "code",
   "execution_count": 8,
   "id": "22dba89c-0544-4c95-85b9-d7356b6b186b",
   "metadata": {},
   "outputs": [
    {
     "data": {
      "text/plain": [
       "61760"
      ]
     },
     "execution_count": 8,
     "metadata": {},
     "output_type": "execute_result"
    }
   ],
   "source": [
    "sum(p.numel() for p in model.parameters())"
   ]
  },
  {
   "cell_type": "code",
   "execution_count": null,
   "id": "ee627a9f-f122-4701-90a9-59a94de1eda5",
   "metadata": {},
   "outputs": [],
   "source": []
  }
 ],
 "metadata": {
  "interpreter": {
   "hash": "0df133046154da9ae7688aa7430ed73ae5cc3be12043136e904e8c0717ac54e0"
  },
  "kernelspec": {
   "display_name": "Python 3",
   "language": "python",
   "name": "python3"
  },
  "language_info": {
   "codemirror_mode": {
    "name": "ipython",
    "version": 3
   },
   "file_extension": ".py",
   "mimetype": "text/x-python",
   "name": "python",
   "nbconvert_exporter": "python",
   "pygments_lexer": "ipython3",
   "version": "3.8.10"
  }
 },
 "nbformat": 4,
 "nbformat_minor": 5
}
